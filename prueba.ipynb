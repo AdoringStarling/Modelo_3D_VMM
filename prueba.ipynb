{
 "cells": [
  {
   "cell_type": "code",
   "execution_count": 1,
   "metadata": {},
   "outputs": [],
   "source": [
    "import pandas as pd\n",
    "import plotly.graph_objects as go\n",
    "import plotly.offline as go_offline"
   ]
  },
  {
   "cell_type": "code",
   "execution_count": 65,
   "metadata": {},
   "outputs": [],
   "source": [
    "iny=pd.read_csv(r'datasets\\INYECCION_geo.csv',delimiter=';',decimal=',')"
   ]
  },
  {
   "cell_type": "code",
   "execution_count": 66,
   "metadata": {},
   "outputs": [],
   "source": [
    "iny=iny[:-1]"
   ]
  },
  {
   "cell_type": "code",
   "execution_count": 67,
   "metadata": {},
   "outputs": [
    {
     "data": {
      "text/html": [
       "<div>\n",
       "<style scoped>\n",
       "    .dataframe tbody tr th:only-of-type {\n",
       "        vertical-align: middle;\n",
       "    }\n",
       "\n",
       "    .dataframe tbody tr th {\n",
       "        vertical-align: top;\n",
       "    }\n",
       "\n",
       "    .dataframe thead th {\n",
       "        text-align: right;\n",
       "    }\n",
       "</style>\n",
       "<table border=\"1\" class=\"dataframe\">\n",
       "  <thead>\n",
       "    <tr style=\"text-align: right;\">\n",
       "      <th></th>\n",
       "      <th>CAMPO</th>\n",
       "      <th>X</th>\n",
       "      <th>Y</th>\n",
       "      <th>OPERADORA</th>\n",
       "      <th>POZOS</th>\n",
       "      <th>TOTAL_bbl</th>\n",
       "      <th>2017-1</th>\n",
       "      <th>2017-2</th>\n",
       "      <th>2017-3</th>\n",
       "      <th>2017-4</th>\n",
       "      <th>...</th>\n",
       "      <th>2021-4</th>\n",
       "      <th>2021-5</th>\n",
       "      <th>2021-6</th>\n",
       "      <th>2021-7</th>\n",
       "      <th>2021-8</th>\n",
       "      <th>2021-9</th>\n",
       "      <th>2021-10</th>\n",
       "      <th>2021-11</th>\n",
       "      <th>2021-12</th>\n",
       "      <th>2021</th>\n",
       "    </tr>\n",
       "  </thead>\n",
       "  <tbody>\n",
       "    <tr>\n",
       "      <th>0</th>\n",
       "      <td>AREA TECA-COCORNA</td>\n",
       "      <td>-75.000000</td>\n",
       "      <td>6.052838</td>\n",
       "      <td>ECOPETROL S.A.</td>\n",
       "      <td>4</td>\n",
       "      <td>18783027</td>\n",
       "      <td>302624.0</td>\n",
       "      <td>272607.0</td>\n",
       "      <td>298098.0</td>\n",
       "      <td>281375.0</td>\n",
       "      <td>...</td>\n",
       "      <td>487842.0</td>\n",
       "      <td>537034.0</td>\n",
       "      <td>477258.0</td>\n",
       "      <td>442301.0</td>\n",
       "      <td>417973.0</td>\n",
       "      <td>454031.0</td>\n",
       "      <td>457477.0</td>\n",
       "      <td>490047.0</td>\n",
       "      <td>511088.0</td>\n",
       "      <td>5637386.0</td>\n",
       "    </tr>\n",
       "    <tr>\n",
       "      <th>1</th>\n",
       "      <td>BONANZA</td>\n",
       "      <td>-73.405474</td>\n",
       "      <td>7.478501</td>\n",
       "      <td>ECOPETROL S.A.</td>\n",
       "      <td>5</td>\n",
       "      <td>4326443</td>\n",
       "      <td>147469.0</td>\n",
       "      <td>135226.0</td>\n",
       "      <td>149034.0</td>\n",
       "      <td>143747.0</td>\n",
       "      <td>...</td>\n",
       "      <td>55025.0</td>\n",
       "      <td>57053.0</td>\n",
       "      <td>73983.0</td>\n",
       "      <td>105956.0</td>\n",
       "      <td>67541.0</td>\n",
       "      <td>64961.0</td>\n",
       "      <td>66342.0</td>\n",
       "      <td>65457.0</td>\n",
       "      <td>79670.0</td>\n",
       "      <td>796524.0</td>\n",
       "    </tr>\n",
       "    <tr>\n",
       "      <th>2</th>\n",
       "      <td>GUADUAS</td>\n",
       "      <td>-74.584433</td>\n",
       "      <td>5.127747</td>\n",
       "      <td>ECOPETROL S.A.</td>\n",
       "      <td>1</td>\n",
       "      <td>778650</td>\n",
       "      <td>0.0</td>\n",
       "      <td>25190.0</td>\n",
       "      <td>27778.0</td>\n",
       "      <td>26653.0</td>\n",
       "      <td>...</td>\n",
       "      <td>0.0</td>\n",
       "      <td>0.0</td>\n",
       "      <td>0.0</td>\n",
       "      <td>0.0</td>\n",
       "      <td>0.0</td>\n",
       "      <td>0.0</td>\n",
       "      <td>0.0</td>\n",
       "      <td>0.0</td>\n",
       "      <td>0.0</td>\n",
       "      <td>3493.0</td>\n",
       "    </tr>\n",
       "    <tr>\n",
       "      <th>3</th>\n",
       "      <td>CASABE SUR</td>\n",
       "      <td>-73.934604</td>\n",
       "      <td>7.007881</td>\n",
       "      <td>ECOPETROL S.A.</td>\n",
       "      <td>8</td>\n",
       "      <td>8079298</td>\n",
       "      <td>172270.0</td>\n",
       "      <td>148490.0</td>\n",
       "      <td>164428.0</td>\n",
       "      <td>152582.0</td>\n",
       "      <td>...</td>\n",
       "      <td>117505.0</td>\n",
       "      <td>115162.0</td>\n",
       "      <td>119480.0</td>\n",
       "      <td>127624.0</td>\n",
       "      <td>147864.0</td>\n",
       "      <td>154353.0</td>\n",
       "      <td>140570.0</td>\n",
       "      <td>168285.0</td>\n",
       "      <td>172024.0</td>\n",
       "      <td>1587916.0</td>\n",
       "    </tr>\n",
       "    <tr>\n",
       "      <th>4</th>\n",
       "      <td>CASABE</td>\n",
       "      <td>-73.924627</td>\n",
       "      <td>7.021292</td>\n",
       "      <td>ECOPETROL S.A.</td>\n",
       "      <td>290</td>\n",
       "      <td>128031293</td>\n",
       "      <td>2418693.0</td>\n",
       "      <td>2204251.0</td>\n",
       "      <td>2427255.0</td>\n",
       "      <td>2223671.0</td>\n",
       "      <td>...</td>\n",
       "      <td>2074375.0</td>\n",
       "      <td>2248306.0</td>\n",
       "      <td>2200225.0</td>\n",
       "      <td>2262077.0</td>\n",
       "      <td>2290509.0</td>\n",
       "      <td>2227278.0</td>\n",
       "      <td>2335054.0</td>\n",
       "      <td>2280690.0</td>\n",
       "      <td>2299218.0</td>\n",
       "      <td>26893417.0</td>\n",
       "    </tr>\n",
       "    <tr>\n",
       "      <th>5</th>\n",
       "      <td>PENAS BLANCAS</td>\n",
       "      <td>-73.973390</td>\n",
       "      <td>6.958002</td>\n",
       "      <td>ECOPETROL S.A.</td>\n",
       "      <td>4</td>\n",
       "      <td>4604557</td>\n",
       "      <td>26778.0</td>\n",
       "      <td>26792.0</td>\n",
       "      <td>24338.0</td>\n",
       "      <td>21684.0</td>\n",
       "      <td>...</td>\n",
       "      <td>86790.0</td>\n",
       "      <td>89341.0</td>\n",
       "      <td>82182.0</td>\n",
       "      <td>85352.0</td>\n",
       "      <td>91638.0</td>\n",
       "      <td>86212.0</td>\n",
       "      <td>87549.0</td>\n",
       "      <td>88227.0</td>\n",
       "      <td>87758.0</td>\n",
       "      <td>1000124.0</td>\n",
       "    </tr>\n",
       "    <tr>\n",
       "      <th>6</th>\n",
       "      <td>PROVINCIA</td>\n",
       "      <td>-73.458641</td>\n",
       "      <td>7.336903</td>\n",
       "      <td>ECOPETROL S.A.</td>\n",
       "      <td>1</td>\n",
       "      <td>673941</td>\n",
       "      <td>0.0</td>\n",
       "      <td>0.0</td>\n",
       "      <td>0.0</td>\n",
       "      <td>0.0</td>\n",
       "      <td>...</td>\n",
       "      <td>26679.0</td>\n",
       "      <td>29713.0</td>\n",
       "      <td>30767.0</td>\n",
       "      <td>59900.0</td>\n",
       "      <td>46017.0</td>\n",
       "      <td>34355.0</td>\n",
       "      <td>29002.0</td>\n",
       "      <td>18017.0</td>\n",
       "      <td>33419.0</td>\n",
       "      <td>390699.0</td>\n",
       "    </tr>\n",
       "    <tr>\n",
       "      <th>7</th>\n",
       "      <td>PALAGUA</td>\n",
       "      <td>-74.510854</td>\n",
       "      <td>6.094250</td>\n",
       "      <td>ECOPETROL S.A.</td>\n",
       "      <td>5</td>\n",
       "      <td>23072930</td>\n",
       "      <td>330071.0</td>\n",
       "      <td>293425.0</td>\n",
       "      <td>325053.0</td>\n",
       "      <td>324063.0</td>\n",
       "      <td>...</td>\n",
       "      <td>436515.0</td>\n",
       "      <td>464569.0</td>\n",
       "      <td>441771.0</td>\n",
       "      <td>441771.0</td>\n",
       "      <td>441771.0</td>\n",
       "      <td>441771.0</td>\n",
       "      <td>441771.0</td>\n",
       "      <td>441771.0</td>\n",
       "      <td>462964.0</td>\n",
       "      <td>5294294.0</td>\n",
       "    </tr>\n",
       "    <tr>\n",
       "      <th>8</th>\n",
       "      <td>INFANTAS</td>\n",
       "      <td>-73.765514</td>\n",
       "      <td>6.917721</td>\n",
       "      <td>ECOPETROL</td>\n",
       "      <td>163</td>\n",
       "      <td>332776193</td>\n",
       "      <td>3378462.0</td>\n",
       "      <td>3083692.0</td>\n",
       "      <td>3534337.0</td>\n",
       "      <td>3827192.0</td>\n",
       "      <td>...</td>\n",
       "      <td>5896219.0</td>\n",
       "      <td>6009571.0</td>\n",
       "      <td>5922708.0</td>\n",
       "      <td>6242936.0</td>\n",
       "      <td>6408518.0</td>\n",
       "      <td>6074573.0</td>\n",
       "      <td>5939700.0</td>\n",
       "      <td>5558757.0</td>\n",
       "      <td>5695991.0</td>\n",
       "      <td>69941387.0</td>\n",
       "    </tr>\n",
       "    <tr>\n",
       "      <th>9</th>\n",
       "      <td>LA CIRA</td>\n",
       "      <td>-73.777784</td>\n",
       "      <td>6.987996</td>\n",
       "      <td>ECOPETROL</td>\n",
       "      <td>372</td>\n",
       "      <td>807871685</td>\n",
       "      <td>12145855.0</td>\n",
       "      <td>11440329.0</td>\n",
       "      <td>12138668.0</td>\n",
       "      <td>11485517.0</td>\n",
       "      <td>...</td>\n",
       "      <td>13637367.0</td>\n",
       "      <td>14123487.0</td>\n",
       "      <td>13368298.0</td>\n",
       "      <td>13255123.0</td>\n",
       "      <td>12895985.0</td>\n",
       "      <td>12224186.0</td>\n",
       "      <td>12688538.0</td>\n",
       "      <td>12199184.0</td>\n",
       "      <td>12864102.0</td>\n",
       "      <td>155260793.0</td>\n",
       "    </tr>\n",
       "    <tr>\n",
       "      <th>10</th>\n",
       "      <td>LA SALINA</td>\n",
       "      <td>-73.519008</td>\n",
       "      <td>7.271827</td>\n",
       "      <td>PETROSANTANDER</td>\n",
       "      <td>5</td>\n",
       "      <td>3833148</td>\n",
       "      <td>62419.0</td>\n",
       "      <td>62419.0</td>\n",
       "      <td>62419.0</td>\n",
       "      <td>62419.0</td>\n",
       "      <td>...</td>\n",
       "      <td>85633.0</td>\n",
       "      <td>85633.0</td>\n",
       "      <td>85633.0</td>\n",
       "      <td>85633.0</td>\n",
       "      <td>85633.0</td>\n",
       "      <td>85633.0</td>\n",
       "      <td>85633.0</td>\n",
       "      <td>85633.0</td>\n",
       "      <td>85633.0</td>\n",
       "      <td>1027596.0</td>\n",
       "    </tr>\n",
       "    <tr>\n",
       "      <th>11</th>\n",
       "      <td>LLANITO</td>\n",
       "      <td>-73.834593</td>\n",
       "      <td>7.163276</td>\n",
       "      <td>ECOPETROL</td>\n",
       "      <td>3</td>\n",
       "      <td>1294020</td>\n",
       "      <td>73621.0</td>\n",
       "      <td>72538.0</td>\n",
       "      <td>80572.0</td>\n",
       "      <td>77569.0</td>\n",
       "      <td>...</td>\n",
       "      <td>0.0</td>\n",
       "      <td>0.0</td>\n",
       "      <td>0.0</td>\n",
       "      <td>0.0</td>\n",
       "      <td>0.0</td>\n",
       "      <td>0.0</td>\n",
       "      <td>0.0</td>\n",
       "      <td>0.0</td>\n",
       "      <td>0.0</td>\n",
       "      <td>0.0</td>\n",
       "    </tr>\n",
       "    <tr>\n",
       "      <th>12</th>\n",
       "      <td>LLANITO UNIFICADO</td>\n",
       "      <td>-73.829305</td>\n",
       "      <td>7.166717</td>\n",
       "      <td>ECOPETROL</td>\n",
       "      <td>17</td>\n",
       "      <td>14385125</td>\n",
       "      <td>0.0</td>\n",
       "      <td>0.0</td>\n",
       "      <td>0.0</td>\n",
       "      <td>0.0</td>\n",
       "      <td>...</td>\n",
       "      <td>449747.0</td>\n",
       "      <td>475220.0</td>\n",
       "      <td>539622.0</td>\n",
       "      <td>605869.0</td>\n",
       "      <td>627586.0</td>\n",
       "      <td>663160.0</td>\n",
       "      <td>698438.0</td>\n",
       "      <td>724270.0</td>\n",
       "      <td>915113.0</td>\n",
       "      <td>7001270.0</td>\n",
       "    </tr>\n",
       "  </tbody>\n",
       "</table>\n",
       "<p>13 rows × 71 columns</p>\n",
       "</div>"
      ],
      "text/plain": [
       "                CAMPO          X         Y       OPERADORA  POZOS  TOTAL_bbl  \\\n",
       "0   AREA TECA-COCORNA -75.000000  6.052838  ECOPETROL S.A.      4   18783027   \n",
       "1             BONANZA -73.405474  7.478501  ECOPETROL S.A.      5    4326443   \n",
       "2             GUADUAS -74.584433  5.127747  ECOPETROL S.A.      1     778650   \n",
       "3          CASABE SUR -73.934604  7.007881  ECOPETROL S.A.      8    8079298   \n",
       "4              CASABE -73.924627  7.021292  ECOPETROL S.A.    290  128031293   \n",
       "5       PENAS BLANCAS -73.973390  6.958002  ECOPETROL S.A.      4    4604557   \n",
       "6           PROVINCIA -73.458641  7.336903  ECOPETROL S.A.      1     673941   \n",
       "7             PALAGUA -74.510854  6.094250  ECOPETROL S.A.      5   23072930   \n",
       "8            INFANTAS -73.765514  6.917721       ECOPETROL    163  332776193   \n",
       "9             LA CIRA -73.777784  6.987996       ECOPETROL    372  807871685   \n",
       "10          LA SALINA -73.519008  7.271827  PETROSANTANDER      5    3833148   \n",
       "11           LLANITO  -73.834593  7.163276       ECOPETROL      3    1294020   \n",
       "12  LLANITO UNIFICADO -73.829305  7.166717       ECOPETROL     17   14385125   \n",
       "\n",
       "        2017-1      2017-2      2017-3      2017-4  ...      2021-4  \\\n",
       "0     302624.0    272607.0    298098.0    281375.0  ...    487842.0   \n",
       "1     147469.0    135226.0    149034.0    143747.0  ...     55025.0   \n",
       "2          0.0     25190.0     27778.0     26653.0  ...         0.0   \n",
       "3     172270.0    148490.0    164428.0    152582.0  ...    117505.0   \n",
       "4    2418693.0   2204251.0   2427255.0   2223671.0  ...   2074375.0   \n",
       "5      26778.0     26792.0     24338.0     21684.0  ...     86790.0   \n",
       "6          0.0         0.0         0.0         0.0  ...     26679.0   \n",
       "7     330071.0    293425.0    325053.0    324063.0  ...    436515.0   \n",
       "8    3378462.0   3083692.0   3534337.0   3827192.0  ...   5896219.0   \n",
       "9   12145855.0  11440329.0  12138668.0  11485517.0  ...  13637367.0   \n",
       "10     62419.0     62419.0     62419.0     62419.0  ...     85633.0   \n",
       "11     73621.0     72538.0     80572.0     77569.0  ...         0.0   \n",
       "12         0.0         0.0         0.0         0.0  ...    449747.0   \n",
       "\n",
       "        2021-5      2021-6      2021-7      2021-8      2021-9     2021-10  \\\n",
       "0     537034.0    477258.0    442301.0    417973.0    454031.0    457477.0   \n",
       "1      57053.0     73983.0    105956.0     67541.0     64961.0     66342.0   \n",
       "2          0.0         0.0         0.0         0.0         0.0         0.0   \n",
       "3     115162.0    119480.0    127624.0    147864.0    154353.0    140570.0   \n",
       "4    2248306.0   2200225.0   2262077.0   2290509.0   2227278.0   2335054.0   \n",
       "5      89341.0     82182.0     85352.0     91638.0     86212.0     87549.0   \n",
       "6      29713.0     30767.0     59900.0     46017.0     34355.0     29002.0   \n",
       "7     464569.0    441771.0    441771.0    441771.0    441771.0    441771.0   \n",
       "8    6009571.0   5922708.0   6242936.0   6408518.0   6074573.0   5939700.0   \n",
       "9   14123487.0  13368298.0  13255123.0  12895985.0  12224186.0  12688538.0   \n",
       "10     85633.0     85633.0     85633.0     85633.0     85633.0     85633.0   \n",
       "11         0.0         0.0         0.0         0.0         0.0         0.0   \n",
       "12    475220.0    539622.0    605869.0    627586.0    663160.0    698438.0   \n",
       "\n",
       "       2021-11     2021-12         2021  \n",
       "0     490047.0    511088.0    5637386.0  \n",
       "1      65457.0     79670.0     796524.0  \n",
       "2          0.0         0.0       3493.0  \n",
       "3     168285.0    172024.0    1587916.0  \n",
       "4    2280690.0   2299218.0   26893417.0  \n",
       "5      88227.0     87758.0    1000124.0  \n",
       "6      18017.0     33419.0     390699.0  \n",
       "7     441771.0    462964.0    5294294.0  \n",
       "8    5558757.0   5695991.0   69941387.0  \n",
       "9   12199184.0  12864102.0  155260793.0  \n",
       "10     85633.0     85633.0    1027596.0  \n",
       "11         0.0         0.0          0.0  \n",
       "12    724270.0    915113.0    7001270.0  \n",
       "\n",
       "[13 rows x 71 columns]"
      ]
     },
     "execution_count": 67,
     "metadata": {},
     "output_type": "execute_result"
    }
   ],
   "source": [
    "iny"
   ]
  },
  {
   "cell_type": "code",
   "execution_count": 85,
   "metadata": {},
   "outputs": [],
   "source": [
    "fig=go.Figure()"
   ]
  },
  {
   "cell_type": "code",
   "execution_count": 69,
   "metadata": {},
   "outputs": [
    {
     "data": {
      "text/plain": [
       "0     AREA TECA-COCORNA\n",
       "1               BONANZA\n",
       "2               GUADUAS\n",
       "3            CASABE SUR\n",
       "4                CASABE\n",
       "5         PENAS BLANCAS\n",
       "6             PROVINCIA\n",
       "7               PALAGUA\n",
       "8              INFANTAS\n",
       "9               LA CIRA\n",
       "10            LA SALINA\n",
       "11             LLANITO \n",
       "12    LLANITO UNIFICADO\n",
       "Name: CAMPO, dtype: object"
      ]
     },
     "execution_count": 69,
     "metadata": {},
     "output_type": "execute_result"
    }
   ],
   "source": [
    "iny['CAMPO'].apply(lambda x:str(x))"
   ]
  },
  {
   "cell_type": "code",
   "execution_count": 86,
   "metadata": {},
   "outputs": [
    {
     "data": {
      "application/vnd.plotly.v1+json": {
       "config": {
        "plotlyServerURL": "https://plot.ly"
       },
       "data": [
        {
         "hovertemplate": [
          "AREA TECA-COCORNA<br>4<br>18783027",
          "BONANZA<br>5<br>4326443",
          "GUADUAS<br>1<br>778650",
          "CASABE SUR<br>8<br>8079298",
          "CASABE<br>290<br>128031293",
          "PENAS BLANCAS<br>4<br>4604557",
          "PROVINCIA<br>1<br>673941",
          "PALAGUA<br>5<br>23072930",
          "INFANTAS<br>163<br>332776193",
          "LA CIRA<br>372<br>807871685",
          "LA SALINA<br>5<br>3833148",
          "LLANITO <br>3<br>1294020",
          "LLANITO UNIFICADO<br>17<br>14385125"
         ],
         "marker": {
          "cmax": 807.871685,
          "cmin": 0.673941,
          "color": [
           18.783027,
           4.326443,
           0.77865,
           8.079298,
           128.031293,
           4.604557,
           0.673941,
           23.07293,
           332.776193,
           807.871685,
           3.833148,
           1.29402,
           14.385125
          ],
          "colorscale": [
           [
            0,
            "#440154"
           ],
           [
            0.1111111111111111,
            "#482878"
           ],
           [
            0.2222222222222222,
            "#3e4989"
           ],
           [
            0.3333333333333333,
            "#31688e"
           ],
           [
            0.4444444444444444,
            "#26828e"
           ],
           [
            0.5555555555555556,
            "#1f9e89"
           ],
           [
            0.6666666666666666,
            "#35b779"
           ],
           [
            0.7777777777777778,
            "#6ece58"
           ],
           [
            0.8888888888888888,
            "#b5de2b"
           ],
           [
            1,
            "#fde725"
           ]
          ],
          "opacity": 0.8,
          "size": [
           1.8783027,
           0.4326443,
           0.077865,
           0.8079298,
           12.8031293,
           0.4604557,
           0.0673941,
           2.307293,
           33.2776193,
           80.7871685,
           0.3833148,
           0.129402,
           1.4385125
          ]
         },
         "mode": "markers",
         "name": "Inyección BBL",
         "showlegend": false,
         "type": "scatter3d",
         "x": [
          -75,
          -73.40547381,
          -74.58443273,
          -73.93460356,
          -73.92462747,
          -73.97338986,
          -73.45864117,
          -74.51085407,
          -73.76551407,
          -73.7777845,
          -73.519008,
          -73.83459258,
          -73.82930465
         ],
         "y": [
          6.05283772,
          7.47850109,
          5.12774726,
          7.00788107,
          7.0212922,
          6.95800224,
          7.33690253,
          6.0942504,
          6.91772056,
          6.98799572,
          7.2718265,
          7.16327602,
          7.16671719
         ],
         "z": [
          -1000,
          -1000,
          -1000,
          -1000,
          -1000,
          -1000,
          -1000,
          -1000,
          -1000,
          -1000,
          -1000,
          -1000,
          -1000
         ]
        }
       ],
       "layout": {
        "template": {
         "data": {
          "bar": [
           {
            "error_x": {
             "color": "#2a3f5f"
            },
            "error_y": {
             "color": "#2a3f5f"
            },
            "marker": {
             "line": {
              "color": "#E5ECF6",
              "width": 0.5
             },
             "pattern": {
              "fillmode": "overlay",
              "size": 10,
              "solidity": 0.2
             }
            },
            "type": "bar"
           }
          ],
          "barpolar": [
           {
            "marker": {
             "line": {
              "color": "#E5ECF6",
              "width": 0.5
             },
             "pattern": {
              "fillmode": "overlay",
              "size": 10,
              "solidity": 0.2
             }
            },
            "type": "barpolar"
           }
          ],
          "carpet": [
           {
            "aaxis": {
             "endlinecolor": "#2a3f5f",
             "gridcolor": "white",
             "linecolor": "white",
             "minorgridcolor": "white",
             "startlinecolor": "#2a3f5f"
            },
            "baxis": {
             "endlinecolor": "#2a3f5f",
             "gridcolor": "white",
             "linecolor": "white",
             "minorgridcolor": "white",
             "startlinecolor": "#2a3f5f"
            },
            "type": "carpet"
           }
          ],
          "choropleth": [
           {
            "colorbar": {
             "outlinewidth": 0,
             "ticks": ""
            },
            "type": "choropleth"
           }
          ],
          "contour": [
           {
            "colorbar": {
             "outlinewidth": 0,
             "ticks": ""
            },
            "colorscale": [
             [
              0,
              "#0d0887"
             ],
             [
              0.1111111111111111,
              "#46039f"
             ],
             [
              0.2222222222222222,
              "#7201a8"
             ],
             [
              0.3333333333333333,
              "#9c179e"
             ],
             [
              0.4444444444444444,
              "#bd3786"
             ],
             [
              0.5555555555555556,
              "#d8576b"
             ],
             [
              0.6666666666666666,
              "#ed7953"
             ],
             [
              0.7777777777777778,
              "#fb9f3a"
             ],
             [
              0.8888888888888888,
              "#fdca26"
             ],
             [
              1,
              "#f0f921"
             ]
            ],
            "type": "contour"
           }
          ],
          "contourcarpet": [
           {
            "colorbar": {
             "outlinewidth": 0,
             "ticks": ""
            },
            "type": "contourcarpet"
           }
          ],
          "heatmap": [
           {
            "colorbar": {
             "outlinewidth": 0,
             "ticks": ""
            },
            "colorscale": [
             [
              0,
              "#0d0887"
             ],
             [
              0.1111111111111111,
              "#46039f"
             ],
             [
              0.2222222222222222,
              "#7201a8"
             ],
             [
              0.3333333333333333,
              "#9c179e"
             ],
             [
              0.4444444444444444,
              "#bd3786"
             ],
             [
              0.5555555555555556,
              "#d8576b"
             ],
             [
              0.6666666666666666,
              "#ed7953"
             ],
             [
              0.7777777777777778,
              "#fb9f3a"
             ],
             [
              0.8888888888888888,
              "#fdca26"
             ],
             [
              1,
              "#f0f921"
             ]
            ],
            "type": "heatmap"
           }
          ],
          "heatmapgl": [
           {
            "colorbar": {
             "outlinewidth": 0,
             "ticks": ""
            },
            "colorscale": [
             [
              0,
              "#0d0887"
             ],
             [
              0.1111111111111111,
              "#46039f"
             ],
             [
              0.2222222222222222,
              "#7201a8"
             ],
             [
              0.3333333333333333,
              "#9c179e"
             ],
             [
              0.4444444444444444,
              "#bd3786"
             ],
             [
              0.5555555555555556,
              "#d8576b"
             ],
             [
              0.6666666666666666,
              "#ed7953"
             ],
             [
              0.7777777777777778,
              "#fb9f3a"
             ],
             [
              0.8888888888888888,
              "#fdca26"
             ],
             [
              1,
              "#f0f921"
             ]
            ],
            "type": "heatmapgl"
           }
          ],
          "histogram": [
           {
            "marker": {
             "pattern": {
              "fillmode": "overlay",
              "size": 10,
              "solidity": 0.2
             }
            },
            "type": "histogram"
           }
          ],
          "histogram2d": [
           {
            "colorbar": {
             "outlinewidth": 0,
             "ticks": ""
            },
            "colorscale": [
             [
              0,
              "#0d0887"
             ],
             [
              0.1111111111111111,
              "#46039f"
             ],
             [
              0.2222222222222222,
              "#7201a8"
             ],
             [
              0.3333333333333333,
              "#9c179e"
             ],
             [
              0.4444444444444444,
              "#bd3786"
             ],
             [
              0.5555555555555556,
              "#d8576b"
             ],
             [
              0.6666666666666666,
              "#ed7953"
             ],
             [
              0.7777777777777778,
              "#fb9f3a"
             ],
             [
              0.8888888888888888,
              "#fdca26"
             ],
             [
              1,
              "#f0f921"
             ]
            ],
            "type": "histogram2d"
           }
          ],
          "histogram2dcontour": [
           {
            "colorbar": {
             "outlinewidth": 0,
             "ticks": ""
            },
            "colorscale": [
             [
              0,
              "#0d0887"
             ],
             [
              0.1111111111111111,
              "#46039f"
             ],
             [
              0.2222222222222222,
              "#7201a8"
             ],
             [
              0.3333333333333333,
              "#9c179e"
             ],
             [
              0.4444444444444444,
              "#bd3786"
             ],
             [
              0.5555555555555556,
              "#d8576b"
             ],
             [
              0.6666666666666666,
              "#ed7953"
             ],
             [
              0.7777777777777778,
              "#fb9f3a"
             ],
             [
              0.8888888888888888,
              "#fdca26"
             ],
             [
              1,
              "#f0f921"
             ]
            ],
            "type": "histogram2dcontour"
           }
          ],
          "mesh3d": [
           {
            "colorbar": {
             "outlinewidth": 0,
             "ticks": ""
            },
            "type": "mesh3d"
           }
          ],
          "parcoords": [
           {
            "line": {
             "colorbar": {
              "outlinewidth": 0,
              "ticks": ""
             }
            },
            "type": "parcoords"
           }
          ],
          "pie": [
           {
            "automargin": true,
            "type": "pie"
           }
          ],
          "scatter": [
           {
            "marker": {
             "colorbar": {
              "outlinewidth": 0,
              "ticks": ""
             }
            },
            "type": "scatter"
           }
          ],
          "scatter3d": [
           {
            "line": {
             "colorbar": {
              "outlinewidth": 0,
              "ticks": ""
             }
            },
            "marker": {
             "colorbar": {
              "outlinewidth": 0,
              "ticks": ""
             }
            },
            "type": "scatter3d"
           }
          ],
          "scattercarpet": [
           {
            "marker": {
             "colorbar": {
              "outlinewidth": 0,
              "ticks": ""
             }
            },
            "type": "scattercarpet"
           }
          ],
          "scattergeo": [
           {
            "marker": {
             "colorbar": {
              "outlinewidth": 0,
              "ticks": ""
             }
            },
            "type": "scattergeo"
           }
          ],
          "scattergl": [
           {
            "marker": {
             "colorbar": {
              "outlinewidth": 0,
              "ticks": ""
             }
            },
            "type": "scattergl"
           }
          ],
          "scattermapbox": [
           {
            "marker": {
             "colorbar": {
              "outlinewidth": 0,
              "ticks": ""
             }
            },
            "type": "scattermapbox"
           }
          ],
          "scatterpolar": [
           {
            "marker": {
             "colorbar": {
              "outlinewidth": 0,
              "ticks": ""
             }
            },
            "type": "scatterpolar"
           }
          ],
          "scatterpolargl": [
           {
            "marker": {
             "colorbar": {
              "outlinewidth": 0,
              "ticks": ""
             }
            },
            "type": "scatterpolargl"
           }
          ],
          "scatterternary": [
           {
            "marker": {
             "colorbar": {
              "outlinewidth": 0,
              "ticks": ""
             }
            },
            "type": "scatterternary"
           }
          ],
          "surface": [
           {
            "colorbar": {
             "outlinewidth": 0,
             "ticks": ""
            },
            "colorscale": [
             [
              0,
              "#0d0887"
             ],
             [
              0.1111111111111111,
              "#46039f"
             ],
             [
              0.2222222222222222,
              "#7201a8"
             ],
             [
              0.3333333333333333,
              "#9c179e"
             ],
             [
              0.4444444444444444,
              "#bd3786"
             ],
             [
              0.5555555555555556,
              "#d8576b"
             ],
             [
              0.6666666666666666,
              "#ed7953"
             ],
             [
              0.7777777777777778,
              "#fb9f3a"
             ],
             [
              0.8888888888888888,
              "#fdca26"
             ],
             [
              1,
              "#f0f921"
             ]
            ],
            "type": "surface"
           }
          ],
          "table": [
           {
            "cells": {
             "fill": {
              "color": "#EBF0F8"
             },
             "line": {
              "color": "white"
             }
            },
            "header": {
             "fill": {
              "color": "#C8D4E3"
             },
             "line": {
              "color": "white"
             }
            },
            "type": "table"
           }
          ]
         },
         "layout": {
          "annotationdefaults": {
           "arrowcolor": "#2a3f5f",
           "arrowhead": 0,
           "arrowwidth": 1
          },
          "autotypenumbers": "strict",
          "coloraxis": {
           "colorbar": {
            "outlinewidth": 0,
            "ticks": ""
           }
          },
          "colorscale": {
           "diverging": [
            [
             0,
             "#8e0152"
            ],
            [
             0.1,
             "#c51b7d"
            ],
            [
             0.2,
             "#de77ae"
            ],
            [
             0.3,
             "#f1b6da"
            ],
            [
             0.4,
             "#fde0ef"
            ],
            [
             0.5,
             "#f7f7f7"
            ],
            [
             0.6,
             "#e6f5d0"
            ],
            [
             0.7,
             "#b8e186"
            ],
            [
             0.8,
             "#7fbc41"
            ],
            [
             0.9,
             "#4d9221"
            ],
            [
             1,
             "#276419"
            ]
           ],
           "sequential": [
            [
             0,
             "#0d0887"
            ],
            [
             0.1111111111111111,
             "#46039f"
            ],
            [
             0.2222222222222222,
             "#7201a8"
            ],
            [
             0.3333333333333333,
             "#9c179e"
            ],
            [
             0.4444444444444444,
             "#bd3786"
            ],
            [
             0.5555555555555556,
             "#d8576b"
            ],
            [
             0.6666666666666666,
             "#ed7953"
            ],
            [
             0.7777777777777778,
             "#fb9f3a"
            ],
            [
             0.8888888888888888,
             "#fdca26"
            ],
            [
             1,
             "#f0f921"
            ]
           ],
           "sequentialminus": [
            [
             0,
             "#0d0887"
            ],
            [
             0.1111111111111111,
             "#46039f"
            ],
            [
             0.2222222222222222,
             "#7201a8"
            ],
            [
             0.3333333333333333,
             "#9c179e"
            ],
            [
             0.4444444444444444,
             "#bd3786"
            ],
            [
             0.5555555555555556,
             "#d8576b"
            ],
            [
             0.6666666666666666,
             "#ed7953"
            ],
            [
             0.7777777777777778,
             "#fb9f3a"
            ],
            [
             0.8888888888888888,
             "#fdca26"
            ],
            [
             1,
             "#f0f921"
            ]
           ]
          },
          "colorway": [
           "#636efa",
           "#EF553B",
           "#00cc96",
           "#ab63fa",
           "#FFA15A",
           "#19d3f3",
           "#FF6692",
           "#B6E880",
           "#FF97FF",
           "#FECB52"
          ],
          "font": {
           "color": "#2a3f5f"
          },
          "geo": {
           "bgcolor": "white",
           "lakecolor": "white",
           "landcolor": "#E5ECF6",
           "showlakes": true,
           "showland": true,
           "subunitcolor": "white"
          },
          "hoverlabel": {
           "align": "left"
          },
          "hovermode": "closest",
          "mapbox": {
           "style": "light"
          },
          "paper_bgcolor": "white",
          "plot_bgcolor": "#E5ECF6",
          "polar": {
           "angularaxis": {
            "gridcolor": "white",
            "linecolor": "white",
            "ticks": ""
           },
           "bgcolor": "#E5ECF6",
           "radialaxis": {
            "gridcolor": "white",
            "linecolor": "white",
            "ticks": ""
           }
          },
          "scene": {
           "xaxis": {
            "backgroundcolor": "#E5ECF6",
            "gridcolor": "white",
            "gridwidth": 2,
            "linecolor": "white",
            "showbackground": true,
            "ticks": "",
            "zerolinecolor": "white"
           },
           "yaxis": {
            "backgroundcolor": "#E5ECF6",
            "gridcolor": "white",
            "gridwidth": 2,
            "linecolor": "white",
            "showbackground": true,
            "ticks": "",
            "zerolinecolor": "white"
           },
           "zaxis": {
            "backgroundcolor": "#E5ECF6",
            "gridcolor": "white",
            "gridwidth": 2,
            "linecolor": "white",
            "showbackground": true,
            "ticks": "",
            "zerolinecolor": "white"
           }
          },
          "shapedefaults": {
           "line": {
            "color": "#2a3f5f"
           }
          },
          "ternary": {
           "aaxis": {
            "gridcolor": "white",
            "linecolor": "white",
            "ticks": ""
           },
           "baxis": {
            "gridcolor": "white",
            "linecolor": "white",
            "ticks": ""
           },
           "bgcolor": "#E5ECF6",
           "caxis": {
            "gridcolor": "white",
            "linecolor": "white",
            "ticks": ""
           }
          },
          "title": {
           "x": 0.05
          },
          "xaxis": {
           "automargin": true,
           "gridcolor": "white",
           "linecolor": "white",
           "ticks": "",
           "title": {
            "standoff": 15
           },
           "zerolinecolor": "white",
           "zerolinewidth": 2
          },
          "yaxis": {
           "automargin": true,
           "gridcolor": "white",
           "linecolor": "white",
           "ticks": "",
           "title": {
            "standoff": 15
           },
           "zerolinecolor": "white",
           "zerolinewidth": 2
          }
         }
        }
       }
      }
     },
     "metadata": {},
     "output_type": "display_data"
    }
   ],
   "source": [
    "fig.add_trace(go.Scatter3d(z=[-1000 for i in iny['X']], x=iny['X'], y=iny['Y'],mode='markers',\n",
    "                    name='Inyección BBL', marker=dict(\n",
    "                size=(iny['TOTAL_bbl'])/10000000,\n",
    "                color=(iny['TOTAL_bbl'])/1000000,                # set color to an array/list of desired values\n",
    "                colorscale='viridis',   # choose a colorscale\n",
    "                opacity=0.8,\n",
    "                cmax=((iny['TOTAL_bbl'])/1000000).max(),\n",
    "                cmin=((iny['TOTAL_bbl'])/1000000).min()),\n",
    "                hovertemplate=iny['CAMPO'].apply(lambda x:str(x))+'<br>'+iny['POZOS'].apply(lambda x:str(x))+'<br>'+iny['TOTAL_bbl'].apply(lambda x:str(x)),\n",
    "                showlegend=False))\n",
    "            \n"
   ]
  },
  {
   "cell_type": "code",
   "execution_count": 28,
   "metadata": {},
   "outputs": [
    {
     "data": {
      "text/html": [
       "<div>\n",
       "<style scoped>\n",
       "    .dataframe tbody tr th:only-of-type {\n",
       "        vertical-align: middle;\n",
       "    }\n",
       "\n",
       "    .dataframe tbody tr th {\n",
       "        vertical-align: top;\n",
       "    }\n",
       "\n",
       "    .dataframe thead th {\n",
       "        text-align: right;\n",
       "    }\n",
       "</style>\n",
       "<table border=\"1\" class=\"dataframe\">\n",
       "  <thead>\n",
       "    <tr style=\"text-align: right;\">\n",
       "      <th></th>\n",
       "      <th>CAMPO</th>\n",
       "      <th>X</th>\n",
       "      <th>Y</th>\n",
       "      <th>OPERADORA</th>\n",
       "      <th>POZOS</th>\n",
       "      <th>TOTAL_bbl</th>\n",
       "      <th>2017-1</th>\n",
       "      <th>2017-2</th>\n",
       "      <th>2017-3</th>\n",
       "      <th>2017-4</th>\n",
       "      <th>...</th>\n",
       "      <th>2021-4</th>\n",
       "      <th>2021-5</th>\n",
       "      <th>2021-6</th>\n",
       "      <th>2021-7</th>\n",
       "      <th>2021-8</th>\n",
       "      <th>2021-9</th>\n",
       "      <th>2021-10</th>\n",
       "      <th>2021-11</th>\n",
       "      <th>2021-12</th>\n",
       "      <th>2021</th>\n",
       "    </tr>\n",
       "  </thead>\n",
       "  <tbody>\n",
       "    <tr>\n",
       "      <th>0</th>\n",
       "      <td>AREA TECA-COCORNA</td>\n",
       "      <td>-75.000000</td>\n",
       "      <td>6.052838</td>\n",
       "      <td>ECOPETROL S.A.</td>\n",
       "      <td>4</td>\n",
       "      <td>18783027</td>\n",
       "      <td>302624.0</td>\n",
       "      <td>272607.0</td>\n",
       "      <td>298098.0</td>\n",
       "      <td>281375.0</td>\n",
       "      <td>...</td>\n",
       "      <td>487842.0</td>\n",
       "      <td>537034.0</td>\n",
       "      <td>477258.0</td>\n",
       "      <td>442301.0</td>\n",
       "      <td>417973.0</td>\n",
       "      <td>454031.0</td>\n",
       "      <td>457477.0</td>\n",
       "      <td>490047.0</td>\n",
       "      <td>511088.0</td>\n",
       "      <td>5637386.0</td>\n",
       "    </tr>\n",
       "    <tr>\n",
       "      <th>1</th>\n",
       "      <td>BONANZA</td>\n",
       "      <td>-73.405474</td>\n",
       "      <td>7.478501</td>\n",
       "      <td>ECOPETROL S.A.</td>\n",
       "      <td>5</td>\n",
       "      <td>4326443</td>\n",
       "      <td>147469.0</td>\n",
       "      <td>135226.0</td>\n",
       "      <td>149034.0</td>\n",
       "      <td>143747.0</td>\n",
       "      <td>...</td>\n",
       "      <td>55025.0</td>\n",
       "      <td>57053.0</td>\n",
       "      <td>73983.0</td>\n",
       "      <td>105956.0</td>\n",
       "      <td>67541.0</td>\n",
       "      <td>64961.0</td>\n",
       "      <td>66342.0</td>\n",
       "      <td>65457.0</td>\n",
       "      <td>79670.0</td>\n",
       "      <td>796524.0</td>\n",
       "    </tr>\n",
       "    <tr>\n",
       "      <th>2</th>\n",
       "      <td>GUADUAS</td>\n",
       "      <td>-74.584433</td>\n",
       "      <td>5.127747</td>\n",
       "      <td>ECOPETROL S.A.</td>\n",
       "      <td>1</td>\n",
       "      <td>778650</td>\n",
       "      <td>0.0</td>\n",
       "      <td>25190.0</td>\n",
       "      <td>27778.0</td>\n",
       "      <td>26653.0</td>\n",
       "      <td>...</td>\n",
       "      <td>0.0</td>\n",
       "      <td>0.0</td>\n",
       "      <td>0.0</td>\n",
       "      <td>0.0</td>\n",
       "      <td>0.0</td>\n",
       "      <td>0.0</td>\n",
       "      <td>0.0</td>\n",
       "      <td>0.0</td>\n",
       "      <td>0.0</td>\n",
       "      <td>3493.0</td>\n",
       "    </tr>\n",
       "    <tr>\n",
       "      <th>3</th>\n",
       "      <td>CASABE SUR</td>\n",
       "      <td>-73.934604</td>\n",
       "      <td>7.007881</td>\n",
       "      <td>ECOPETROL S.A.</td>\n",
       "      <td>8</td>\n",
       "      <td>8079298</td>\n",
       "      <td>172270.0</td>\n",
       "      <td>148490.0</td>\n",
       "      <td>164428.0</td>\n",
       "      <td>152582.0</td>\n",
       "      <td>...</td>\n",
       "      <td>117505.0</td>\n",
       "      <td>115162.0</td>\n",
       "      <td>119480.0</td>\n",
       "      <td>127624.0</td>\n",
       "      <td>147864.0</td>\n",
       "      <td>154353.0</td>\n",
       "      <td>140570.0</td>\n",
       "      <td>168285.0</td>\n",
       "      <td>172024.0</td>\n",
       "      <td>1587916.0</td>\n",
       "    </tr>\n",
       "    <tr>\n",
       "      <th>4</th>\n",
       "      <td>CASABE</td>\n",
       "      <td>-73.924627</td>\n",
       "      <td>7.021292</td>\n",
       "      <td>ECOPETROL S.A.</td>\n",
       "      <td>290</td>\n",
       "      <td>128031293</td>\n",
       "      <td>2418693.0</td>\n",
       "      <td>2204251.0</td>\n",
       "      <td>2427255.0</td>\n",
       "      <td>2223671.0</td>\n",
       "      <td>...</td>\n",
       "      <td>2074375.0</td>\n",
       "      <td>2248306.0</td>\n",
       "      <td>2200225.0</td>\n",
       "      <td>2262077.0</td>\n",
       "      <td>2290509.0</td>\n",
       "      <td>2227278.0</td>\n",
       "      <td>2335054.0</td>\n",
       "      <td>2280690.0</td>\n",
       "      <td>2299218.0</td>\n",
       "      <td>26893417.0</td>\n",
       "    </tr>\n",
       "    <tr>\n",
       "      <th>5</th>\n",
       "      <td>PENAS BLANCAS</td>\n",
       "      <td>-73.973390</td>\n",
       "      <td>6.958002</td>\n",
       "      <td>ECOPETROL S.A.</td>\n",
       "      <td>4</td>\n",
       "      <td>4604557</td>\n",
       "      <td>26778.0</td>\n",
       "      <td>26792.0</td>\n",
       "      <td>24338.0</td>\n",
       "      <td>21684.0</td>\n",
       "      <td>...</td>\n",
       "      <td>86790.0</td>\n",
       "      <td>89341.0</td>\n",
       "      <td>82182.0</td>\n",
       "      <td>85352.0</td>\n",
       "      <td>91638.0</td>\n",
       "      <td>86212.0</td>\n",
       "      <td>87549.0</td>\n",
       "      <td>88227.0</td>\n",
       "      <td>87758.0</td>\n",
       "      <td>1000124.0</td>\n",
       "    </tr>\n",
       "    <tr>\n",
       "      <th>6</th>\n",
       "      <td>PROVINCIA</td>\n",
       "      <td>-73.458641</td>\n",
       "      <td>7.336903</td>\n",
       "      <td>ECOPETROL S.A.</td>\n",
       "      <td>1</td>\n",
       "      <td>673941</td>\n",
       "      <td>0.0</td>\n",
       "      <td>0.0</td>\n",
       "      <td>0.0</td>\n",
       "      <td>0.0</td>\n",
       "      <td>...</td>\n",
       "      <td>26679.0</td>\n",
       "      <td>29713.0</td>\n",
       "      <td>30767.0</td>\n",
       "      <td>59900.0</td>\n",
       "      <td>46017.0</td>\n",
       "      <td>34355.0</td>\n",
       "      <td>29002.0</td>\n",
       "      <td>18017.0</td>\n",
       "      <td>33419.0</td>\n",
       "      <td>390699.0</td>\n",
       "    </tr>\n",
       "    <tr>\n",
       "      <th>7</th>\n",
       "      <td>PALAGUA</td>\n",
       "      <td>-74.510854</td>\n",
       "      <td>6.094250</td>\n",
       "      <td>ECOPETROL S.A.</td>\n",
       "      <td>5</td>\n",
       "      <td>23072930</td>\n",
       "      <td>330071.0</td>\n",
       "      <td>293425.0</td>\n",
       "      <td>325053.0</td>\n",
       "      <td>324063.0</td>\n",
       "      <td>...</td>\n",
       "      <td>436515.0</td>\n",
       "      <td>464569.0</td>\n",
       "      <td>441771.0</td>\n",
       "      <td>441771.0</td>\n",
       "      <td>441771.0</td>\n",
       "      <td>441771.0</td>\n",
       "      <td>441771.0</td>\n",
       "      <td>441771.0</td>\n",
       "      <td>462964.0</td>\n",
       "      <td>5294294.0</td>\n",
       "    </tr>\n",
       "    <tr>\n",
       "      <th>8</th>\n",
       "      <td>INFANTAS</td>\n",
       "      <td>-73.765514</td>\n",
       "      <td>6.917721</td>\n",
       "      <td>ECOPETROL</td>\n",
       "      <td>163</td>\n",
       "      <td>332776193</td>\n",
       "      <td>3378462.0</td>\n",
       "      <td>3083692.0</td>\n",
       "      <td>3534337.0</td>\n",
       "      <td>3827192.0</td>\n",
       "      <td>...</td>\n",
       "      <td>5896219.0</td>\n",
       "      <td>6009571.0</td>\n",
       "      <td>5922708.0</td>\n",
       "      <td>6242936.0</td>\n",
       "      <td>6408518.0</td>\n",
       "      <td>6074573.0</td>\n",
       "      <td>5939700.0</td>\n",
       "      <td>5558757.0</td>\n",
       "      <td>5695991.0</td>\n",
       "      <td>69941387.0</td>\n",
       "    </tr>\n",
       "    <tr>\n",
       "      <th>9</th>\n",
       "      <td>LA CIRA</td>\n",
       "      <td>-73.777784</td>\n",
       "      <td>6.987996</td>\n",
       "      <td>ECOPETROL</td>\n",
       "      <td>372</td>\n",
       "      <td>807871685</td>\n",
       "      <td>12145855.0</td>\n",
       "      <td>11440329.0</td>\n",
       "      <td>12138668.0</td>\n",
       "      <td>11485517.0</td>\n",
       "      <td>...</td>\n",
       "      <td>13637367.0</td>\n",
       "      <td>14123487.0</td>\n",
       "      <td>13368298.0</td>\n",
       "      <td>13255123.0</td>\n",
       "      <td>12895985.0</td>\n",
       "      <td>12224186.0</td>\n",
       "      <td>12688538.0</td>\n",
       "      <td>12199184.0</td>\n",
       "      <td>12864102.0</td>\n",
       "      <td>155260793.0</td>\n",
       "    </tr>\n",
       "    <tr>\n",
       "      <th>10</th>\n",
       "      <td>LA SALINA</td>\n",
       "      <td>-73.519008</td>\n",
       "      <td>7.271827</td>\n",
       "      <td>PETROSANTANDER</td>\n",
       "      <td>5</td>\n",
       "      <td>3833148</td>\n",
       "      <td>62419.0</td>\n",
       "      <td>62419.0</td>\n",
       "      <td>62419.0</td>\n",
       "      <td>62419.0</td>\n",
       "      <td>...</td>\n",
       "      <td>85633.0</td>\n",
       "      <td>85633.0</td>\n",
       "      <td>85633.0</td>\n",
       "      <td>85633.0</td>\n",
       "      <td>85633.0</td>\n",
       "      <td>85633.0</td>\n",
       "      <td>85633.0</td>\n",
       "      <td>85633.0</td>\n",
       "      <td>85633.0</td>\n",
       "      <td>1027596.0</td>\n",
       "    </tr>\n",
       "    <tr>\n",
       "      <th>11</th>\n",
       "      <td>LLANITO (hasta junio-18)</td>\n",
       "      <td>-73.834593</td>\n",
       "      <td>7.163276</td>\n",
       "      <td>ECOPETROL</td>\n",
       "      <td>3</td>\n",
       "      <td>1294020</td>\n",
       "      <td>73621.0</td>\n",
       "      <td>72538.0</td>\n",
       "      <td>80572.0</td>\n",
       "      <td>77569.0</td>\n",
       "      <td>...</td>\n",
       "      <td>0.0</td>\n",
       "      <td>0.0</td>\n",
       "      <td>0.0</td>\n",
       "      <td>0.0</td>\n",
       "      <td>0.0</td>\n",
       "      <td>0.0</td>\n",
       "      <td>0.0</td>\n",
       "      <td>0.0</td>\n",
       "      <td>0.0</td>\n",
       "      <td>0.0</td>\n",
       "    </tr>\n",
       "    <tr>\n",
       "      <th>12</th>\n",
       "      <td>LLANITO UNIFICADO (desde julio 2018)\\r\\nGala; ...</td>\n",
       "      <td>-73.829305</td>\n",
       "      <td>7.166717</td>\n",
       "      <td>ECOPETROL</td>\n",
       "      <td>17</td>\n",
       "      <td>14385125</td>\n",
       "      <td>0.0</td>\n",
       "      <td>0.0</td>\n",
       "      <td>0.0</td>\n",
       "      <td>0.0</td>\n",
       "      <td>...</td>\n",
       "      <td>449747.0</td>\n",
       "      <td>475220.0</td>\n",
       "      <td>539622.0</td>\n",
       "      <td>605869.0</td>\n",
       "      <td>627586.0</td>\n",
       "      <td>663160.0</td>\n",
       "      <td>698438.0</td>\n",
       "      <td>724270.0</td>\n",
       "      <td>915113.0</td>\n",
       "      <td>7001270.0</td>\n",
       "    </tr>\n",
       "  </tbody>\n",
       "</table>\n",
       "<p>13 rows × 71 columns</p>\n",
       "</div>"
      ],
      "text/plain": [
       "                                                CAMPO          X         Y  \\\n",
       "0                                   AREA TECA-COCORNA -75.000000  6.052838   \n",
       "1                                             BONANZA -73.405474  7.478501   \n",
       "2                                             GUADUAS -74.584433  5.127747   \n",
       "3                                          CASABE SUR -73.934604  7.007881   \n",
       "4                                              CASABE -73.924627  7.021292   \n",
       "5                                       PENAS BLANCAS -73.973390  6.958002   \n",
       "6                                           PROVINCIA -73.458641  7.336903   \n",
       "7                                             PALAGUA -74.510854  6.094250   \n",
       "8                                            INFANTAS -73.765514  6.917721   \n",
       "9                                             LA CIRA -73.777784  6.987996   \n",
       "10                                          LA SALINA -73.519008  7.271827   \n",
       "11                           LLANITO (hasta junio-18) -73.834593  7.163276   \n",
       "12  LLANITO UNIFICADO (desde julio 2018)\\r\\nGala; ... -73.829305  7.166717   \n",
       "\n",
       "         OPERADORA  POZOS  TOTAL_bbl      2017-1      2017-2      2017-3  \\\n",
       "0   ECOPETROL S.A.      4   18783027    302624.0    272607.0    298098.0   \n",
       "1   ECOPETROL S.A.      5    4326443    147469.0    135226.0    149034.0   \n",
       "2   ECOPETROL S.A.      1     778650         0.0     25190.0     27778.0   \n",
       "3   ECOPETROL S.A.      8    8079298    172270.0    148490.0    164428.0   \n",
       "4   ECOPETROL S.A.    290  128031293   2418693.0   2204251.0   2427255.0   \n",
       "5   ECOPETROL S.A.      4    4604557     26778.0     26792.0     24338.0   \n",
       "6   ECOPETROL S.A.      1     673941         0.0         0.0         0.0   \n",
       "7   ECOPETROL S.A.      5   23072930    330071.0    293425.0    325053.0   \n",
       "8        ECOPETROL    163  332776193   3378462.0   3083692.0   3534337.0   \n",
       "9        ECOPETROL    372  807871685  12145855.0  11440329.0  12138668.0   \n",
       "10  PETROSANTANDER      5    3833148     62419.0     62419.0     62419.0   \n",
       "11       ECOPETROL      3    1294020     73621.0     72538.0     80572.0   \n",
       "12       ECOPETROL     17   14385125         0.0         0.0         0.0   \n",
       "\n",
       "        2017-4  ...      2021-4      2021-5      2021-6      2021-7  \\\n",
       "0     281375.0  ...    487842.0    537034.0    477258.0    442301.0   \n",
       "1     143747.0  ...     55025.0     57053.0     73983.0    105956.0   \n",
       "2      26653.0  ...         0.0         0.0         0.0         0.0   \n",
       "3     152582.0  ...    117505.0    115162.0    119480.0    127624.0   \n",
       "4    2223671.0  ...   2074375.0   2248306.0   2200225.0   2262077.0   \n",
       "5      21684.0  ...     86790.0     89341.0     82182.0     85352.0   \n",
       "6          0.0  ...     26679.0     29713.0     30767.0     59900.0   \n",
       "7     324063.0  ...    436515.0    464569.0    441771.0    441771.0   \n",
       "8    3827192.0  ...   5896219.0   6009571.0   5922708.0   6242936.0   \n",
       "9   11485517.0  ...  13637367.0  14123487.0  13368298.0  13255123.0   \n",
       "10     62419.0  ...     85633.0     85633.0     85633.0     85633.0   \n",
       "11     77569.0  ...         0.0         0.0         0.0         0.0   \n",
       "12         0.0  ...    449747.0    475220.0    539622.0    605869.0   \n",
       "\n",
       "        2021-8      2021-9     2021-10     2021-11     2021-12         2021  \n",
       "0     417973.0    454031.0    457477.0    490047.0    511088.0    5637386.0  \n",
       "1      67541.0     64961.0     66342.0     65457.0     79670.0     796524.0  \n",
       "2          0.0         0.0         0.0         0.0         0.0       3493.0  \n",
       "3     147864.0    154353.0    140570.0    168285.0    172024.0    1587916.0  \n",
       "4    2290509.0   2227278.0   2335054.0   2280690.0   2299218.0   26893417.0  \n",
       "5      91638.0     86212.0     87549.0     88227.0     87758.0    1000124.0  \n",
       "6      46017.0     34355.0     29002.0     18017.0     33419.0     390699.0  \n",
       "7     441771.0    441771.0    441771.0    441771.0    462964.0    5294294.0  \n",
       "8    6408518.0   6074573.0   5939700.0   5558757.0   5695991.0   69941387.0  \n",
       "9   12895985.0  12224186.0  12688538.0  12199184.0  12864102.0  155260793.0  \n",
       "10     85633.0     85633.0     85633.0     85633.0     85633.0    1027596.0  \n",
       "11         0.0         0.0         0.0         0.0         0.0          0.0  \n",
       "12    627586.0    663160.0    698438.0    724270.0    915113.0    7001270.0  \n",
       "\n",
       "[13 rows x 71 columns]"
      ]
     },
     "execution_count": 28,
     "metadata": {},
     "output_type": "execute_result"
    }
   ],
   "source": []
  },
  {
   "cell_type": "code",
   "execution_count": null,
   "metadata": {},
   "outputs": [],
   "source": [
    "go.Scatter3d(z=riv['Z'], x=riv['X'], y=riv['Y'],mode='markers',\n",
    "                    name=str(i),marker_symbol='square',marker=dict(color='blue',size=3))"
   ]
  },
  {
   "cell_type": "code",
   "execution_count": 53,
   "metadata": {},
   "outputs": [],
   "source": [
    "df_sismos=pd.read_csv(r'datasets\\reporte_LBG.csv')\n",
    "# df_sismos=pd.read_csv(\"datasets/reporte_1.csv\")"
   ]
  },
  {
   "cell_type": "code",
   "execution_count": 58,
   "metadata": {},
   "outputs": [],
   "source": [
    "# print(df_sis.columns)\n",
    "# print(df_sismos.columns)"
   ]
  },
  {
   "cell_type": "code",
   "execution_count": 55,
   "metadata": {},
   "outputs": [],
   "source": [
    "df_sismos['FECHA - HORA UTC']=df_sismos['Fecha  (UTC)'].astype(str)+' '+df_sis['Hora  (UTC)'].astype(str)\n",
    "df_sismos.rename(columns = {'Latitud(°)':'LATITUD (°)', \n",
    "                                'Longitud(°)':'LONGITUD (°)',\n",
    "                                'Profundidad(Km)':'PROF. (Km)',\n",
    "                                'Magnitud':'MAGNITUD',\n",
    "                                'Tipo Magnitud':'TIPO MAGNITUD',\n",
    "                                'Rms(Seg)':'RMS (Seg)',\n",
    "                                'Gap(°)':'GAP (°)',\n",
    "                                'Error  Latitud(Km)':'ERROR LATITUD (Km)',\n",
    "                                'Error  Longitud(Km)':'ERROR LONGITUD (Km)',\n",
    "                                'Error  Profundidad(Km)':'ERROR PROFUNDIDAD (Km)'}, inplace = True)\n",
    "df_sismos.drop(['Fecha  (UTC)','Hora  (UTC)'],axis=1,inplace=True)"
   ]
  },
  {
   "cell_type": "code",
   "execution_count": 44,
   "metadata": {},
   "outputs": [],
   "source": [
    "df_rivers=pd.read_csv('datasets\\drenajes.csv')"
   ]
  },
  {
   "cell_type": "code",
   "execution_count": 45,
   "metadata": {},
   "outputs": [],
   "source": [
    "fig=go.Figure()"
   ]
  },
  {
   "cell_type": "code",
   "execution_count": 37,
   "metadata": {},
   "outputs": [
    {
     "data": {
      "text/plain": [
       "-9999.0    2387\n",
       " 28.0        13\n",
       " 68.0        11\n",
       " 85.0        11\n",
       " 45.0        11\n",
       "           ... \n",
       " 59.0         1\n",
       " 72.0         1\n",
       " 38.0         1\n",
       " 44.0         1\n",
       " 52.0         1\n",
       "Name: Z, Length: 69, dtype: int64"
      ]
     },
     "execution_count": 37,
     "metadata": {},
     "output_type": "execute_result"
    }
   ],
   "source": [
    "df_rivers['Z'].value_counts()"
   ]
  },
  {
   "cell_type": "code",
   "execution_count": 46,
   "metadata": {},
   "outputs": [],
   "source": [
    "for i in df_rivers['DRENAJE'].unique():\n",
    "    riv=df_rivers[df_rivers['DRENAJE']==i]\n",
    "    fig.add_trace(go.Scatter3d(z=riv['Z'], x=riv['X'], y=riv['Y'],mode='markers',\n",
    "                    name=str(i),marker_symbol='square',marker=dict(color='blue',size=3)))"
   ]
  },
  {
   "cell_type": "code",
   "execution_count": 42,
   "metadata": {},
   "outputs": [
    {
     "data": {
      "text/plain": [
       "'prueba.html'"
      ]
     },
     "execution_count": 42,
     "metadata": {},
     "output_type": "execute_result"
    }
   ],
   "source": [
    "# go_offline.plot(fig,filename='prueba.html',validate=True, auto_open=True)"
   ]
  }
 ],
 "metadata": {
  "interpreter": {
   "hash": "c2bcf8f024e30e73483b98a428b10c7b83874a362987a530c5f8a51a305784d9"
  },
  "kernelspec": {
   "display_name": "Python 3.7.10 ('geopython')",
   "language": "python",
   "name": "python3"
  },
  "language_info": {
   "codemirror_mode": {
    "name": "ipython",
    "version": 3
   },
   "file_extension": ".py",
   "mimetype": "text/x-python",
   "name": "python",
   "nbconvert_exporter": "python",
   "pygments_lexer": "ipython3",
   "version": "3.7.10"
  },
  "orig_nbformat": 4
 },
 "nbformat": 4,
 "nbformat_minor": 2
}
